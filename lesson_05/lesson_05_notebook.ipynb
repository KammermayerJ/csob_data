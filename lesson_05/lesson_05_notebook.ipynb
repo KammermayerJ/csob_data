{
  "nbformat": 4,
  "nbformat_minor": 0,
  "metadata": {
    "colab": {
      "provenance": [],
      "toc_visible": true
    },
    "kernelspec": {
      "name": "python3",
      "display_name": "Python 3"
    },
    "language_info": {
      "name": "python"
    }
  },
  "cells": [
    {
      "cell_type": "markdown",
      "source": [
        "![image.png](data:image/png;base64,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)"
      ],
      "metadata": {
        "id": "EREbJu54NhTe"
      }
    },
    {
      "cell_type": "markdown",
      "source": [
        "## Kde najdete materiály?\n",
        "\n",
        "Na portalu engeta - https://learn.engeto.com/"
      ],
      "metadata": {
        "id": "LNyyMLZRL8Oe"
      }
    },
    {
      "cell_type": "markdown",
      "source": [
        "#Úvod\n",
        "\n",
        "Dozvíme se o existenci window functions a možnostech využívání dalších (aritmetických, řetězcových) operací v `SELECT` a `WHERE` klauzulích. \n",
        "\n",
        "Představíme klauzuli `HAVING` a použití společně s agregačními funkcemi. \n",
        "\n",
        "Na závěr přejdeme ke Common Table Expressions.\n"
      ],
      "metadata": {
        "id": "GEZDCbW6nJmT"
      }
    },
    {
      "cell_type": "markdown",
      "source": [
        "#dbdiagram.io\n",
        "\n",
        "Homepage - https://dbdiagram.io/home\n",
        "\n",
        "Dokumentace - https://dbdiagram.io/docs/"
      ],
      "metadata": {
        "id": "1ssNcx5oh3WH"
      }
    },
    {
      "cell_type": "markdown",
      "source": [
        "\n",
        "\n",
        "\n",
        "Umožňuje uživatelům snadno a rychle navrhovat relační databáze pomocí intuitivního uživatelského rozhraní a vizuálního editoru. \n",
        "\n",
        "Uživatelé mohou přidávat tabulky, sloupce, vztahy a další prvky, a aplikace automaticky generuje kód SQL pro vytvoření databáze.\n",
        "\n",
        "Jednou z výhod dbdiagram.io je jeho jednoduchost. \n",
        "\n",
        "Uživatelé nemusí mít předchozí zkušenosti s návrhem databází nebo znalosti SQL syntaxe, aby mohli začít používat aplikaci. \n",
        "\n",
        "Navíc aplikace poskytuje řadu užitečných funkcí, jako je například možnost importovat stávající schémata databáze nebo exportovat diagramy do různých formátů.\n",
        "\n"
      ],
      "metadata": {
        "id": "5JITqvq8iMVA"
      }
    },
    {
      "cell_type": "markdown",
      "source": [
        "### Jazyk DBML \n",
        "\n",
        "https://www.dbml.org/docs/#project-definition\n",
        "\n"
      ],
      "metadata": {
        "id": "MfUOehJ4SALO"
      }
    },
    {
      "cell_type": "markdown",
      "source": [
        "DBML (Database Markup Language) je jazyk pro popis relačních databází, který umožňuje vytvářet a spravovat schémata databází pomocí textového souboru. \n",
        "\n",
        "DBML byl vytvořen pro použití s nástrojem dbdiagram.io, ale může být použit i s jinými nástroji pro návrh databází.\n",
        "\n",
        "S DBML lze definovat tabulky, sloupce, primární a cizí klíče, indexy a další prvky databáze pomocí jednoduché syntaxe. \n",
        "\n",
        "DBML také umožňuje definovat vztahy mezi tabulkami."
      ],
      "metadata": {
        "id": "xKbmyfjLSawk"
      }
    },
    {
      "cell_type": "markdown",
      "source": [
        "##Materiály do cvičení\n",
        "\n",
        "[dbdiabram.io vstup](https://github.com/KammermayerJ/csob_data_academy_2023/blob/main/lesson_05/lesson_05_dbdiagram_io.txt)\n",
        "\n",
        "\n",
        "[SQL script pro Dbeaver](https://github.com/KammermayerJ/csob_data_academy_2023/blob/main/lesson_05/lesson_05_dbdiagram_io_dbeaver.sql)\n",
        "\n",
        "\n",
        "\n",
        "\n",
        "\n"
      ],
      "metadata": {
        "id": "Zqw7qFJkQ64t"
      }
    },
    {
      "cell_type": "markdown",
      "source": [
        "##Úkoly\n",
        "Vyberte z tabulky `doctor` sloupce id, jméno a příjmení. Připojte tabulku `address` a vypište název ulice a číslo ulice."
      ],
      "metadata": {
        "id": "voaDlnpR_mbB"
      }
    },
    {
      "cell_type": "code",
      "source": [
        "\n",
        "SELECT\n",
        "    d.id, \n",
        "    d.name, \n",
        "    d.surname,\n",
        "    a.street, \n",
        "    a.street_number\n",
        "FROM doctor d \n",
        "LEFT JOIN address a \n",
        "\t  ON d.address_id = a.id;\n"
      ],
      "metadata": {
        "id": "f5Yp8tHCsGF3"
      },
      "execution_count": null,
      "outputs": []
    },
    {
      "cell_type": "markdown",
      "source": [
        "Podívejte se jaké položky máme v tabulce `medicament`."
      ],
      "metadata": {
        "id": "3_UiNSEwA3FO"
      }
    },
    {
      "cell_type": "code",
      "source": [
        "\n",
        "SELECT * FROM medicament;\n"
      ],
      "metadata": {
        "id": "Yl5gkufYsIme"
      },
      "execution_count": null,
      "outputs": []
    },
    {
      "cell_type": "markdown",
      "source": [
        "Vypište jméno a příjmení pacienta a k němu dodatečné informace o tom jaké léky bere a jejich množství s jednotkami. Data agregujte."
      ],
      "metadata": {
        "id": "VKifQvrmBQXZ"
      }
    },
    {
      "cell_type": "code",
      "source": [
        "\n",
        "SELECT\n",
        "    p.name, \n",
        "    p.surname,\n",
        "    m.name AS medicament_name,\n",
        "    SUM(lom.amount) AS amount, \n",
        "    m.unit \n",
        "FROM patient p\n",
        "JOIN prescription pr\n",
        "\t  ON p.id = pr.patient_id\n",
        "JOIN list_of_medicaments lom\n",
        "\t  ON pr.id = lom.prescription_id\n",
        "JOIN medicament m\n",
        "\t  ON lom.medicament_id = m.id\n",
        "GROUP BY p.name, p.surname, m.name, m.unit\n",
        "ORDER BY p.surname, p.name;\n"
      ],
      "metadata": {
        "id": "AowxCVKnsR52"
      },
      "execution_count": null,
      "outputs": []
    },
    {
      "cell_type": "code",
      "source": [
        "\n",
        "SELECT * FROM patient;\n"
      ],
      "metadata": {
        "id": "37F06XtJsZVh"
      },
      "execution_count": null,
      "outputs": []
    },
    {
      "cell_type": "markdown",
      "source": [
        "Vložte do tabulky `patient` nový záznam."
      ],
      "metadata": {
        "id": "7OMl2HuaBuTc"
      }
    },
    {
      "cell_type": "code",
      "source": [
        "\n",
        "INSERT INTO patient(name, surname, address_id, insurance_company)\n",
        "\tVALUES ('Jan', 'Nedohledatelné', NULL, 'State insurance');\n",
        "  "
      ],
      "metadata": {
        "id": "GdGy0CkFsa_Z"
      },
      "execution_count": null,
      "outputs": []
    },
    {
      "cell_type": "markdown",
      "source": [
        "Vypište seznam pacientů s jejich adresami. "
      ],
      "metadata": {
        "id": "U6VSgNwrCUIh"
      }
    },
    {
      "cell_type": "code",
      "source": [
        "\n",
        "SELECT\n",
        "\t*\n",
        "FROM patient p \n",
        "JOIN address a \n",
        "\t  ON p.address_id = a.id;\n"
      ],
      "metadata": {
        "id": "iGXVkMQqspci"
      },
      "execution_count": null,
      "outputs": []
    },
    {
      "cell_type": "code",
      "source": [
        "\n",
        "SELECT\n",
        "\t*\n",
        "FROM patient p \n",
        "LEFT JOIN address a \n",
        "\tON p.address_id = a.id;\n"
      ],
      "metadata": {
        "id": "EQHFPwROsfUJ"
      },
      "execution_count": null,
      "outputs": []
    },
    {
      "cell_type": "markdown",
      "source": [
        "Vypište seznam doktorů a pacientů, stačí jejich jméno a příjmení."
      ],
      "metadata": {
        "id": "yvPckEmhB3ye"
      }
    },
    {
      "cell_type": "code",
      "source": [
        "\n",
        "SELECT name, surname, 'doktor' AS person_position\n",
        "FROM doctor\n",
        "UNION\n",
        "SELECT name, surname, 'pacient' AS person_position\n",
        "FROM patient;\n"
      ],
      "metadata": {
        "id": "sMVlSElassxC"
      },
      "execution_count": null,
      "outputs": []
    },
    {
      "cell_type": "code",
      "source": [
        "\n",
        "SELECT name, surname\n",
        "FROM doctor\n",
        "UNION ALL\n",
        "SELECT name, surname\n",
        "FROM patient;\n"
      ],
      "metadata": {
        "id": "2wdbd8X25_m8"
      },
      "execution_count": null,
      "outputs": []
    },
    {
      "cell_type": "markdown",
      "source": [
        "#Modulo"
      ],
      "metadata": {
        "id": "15rqTERCdLvx"
      }
    },
    {
      "cell_type": "markdown",
      "source": [
        "Operátor modulo (značený %) slouží k výpočtu zbytku po celočíselném dělení. \n"
      ],
      "metadata": {
        "id": "yNoQwsUqznId"
      }
    },
    {
      "cell_type": "markdown",
      "source": [
        "##Úkol 1\n",
        "Vyzkoušejte si operátor modulo (zbytek po celočíselném dělení).\n",
        "\n"
      ],
      "metadata": {
        "id": "Nq9D-AUZumbZ"
      }
    },
    {
      "cell_type": "code",
      "source": [
        "\n",
        "SELECT 5 % 2;\n",
        "SELECT 14 % 5;\n",
        "SELECT 15 % 5;\n"
      ],
      "metadata": {
        "id": "PfvXrLaLupbY"
      },
      "execution_count": null,
      "outputs": []
    },
    {
      "cell_type": "markdown",
      "source": [
        "Na co se používá dělitelnost jedenácti?\n",
        "\n"
      ],
      "metadata": {
        "id": "gIPTTzbXuqOR"
      }
    },
    {
      "cell_type": "code",
      "source": [
        "SELECT 123456789874 % 11;"
      ],
      "metadata": {
        "id": "-4HtTGpSuq0w"
      },
      "execution_count": null,
      "outputs": []
    },
    {
      "cell_type": "markdown",
      "source": [
        "##Úkol 2\n",
        "\n",
        "Využijte operátor modulo na zjištění sudosti populace v tabulce `economies`.\n",
        "\n",
        "Populace - zbytek po dělení dvěma:\n",
        "\n",
        "\n",
        "\n",
        "\n",
        "\n"
      ],
      "metadata": {
        "id": "EVwqQGvLIzNG"
      }
    },
    {
      "cell_type": "code",
      "source": [
        "SELECT\n",
        "    country, \n",
        "    year, \n",
        "    population, \n",
        "    CAST(population AS INT) % 2 AS division_rest\n",
        "FROM economies e\n",
        "WHERE population IS NOT NULL;\n"
      ],
      "metadata": {
        "id": "RKDOTFn9vABM"
      },
      "execution_count": null,
      "outputs": []
    },
    {
      "cell_type": "markdown",
      "source": [
        "Populace - flag zda je lichá:\n",
        "\n"
      ],
      "metadata": {
        "id": "pFexO9qNu_nL"
      }
    },
    {
      "cell_type": "code",
      "source": [
        "\n",
        "SELECT\n",
        "    country, \n",
        "    year, \n",
        "    population, \n",
        "    CAST(population AS INT) % 2 AS is_odd\n",
        "FROM economies e\n",
        "WHERE population IS NOT NULL;\n"
      ],
      "metadata": {
        "id": "wNSut1EFvCUM"
      },
      "execution_count": null,
      "outputs": []
    },
    {
      "cell_type": "markdown",
      "source": [
        "Populace - flag zda je lichá se selekcí:\n",
        "\n"
      ],
      "metadata": {
        "id": "Nl_275sYvDMU"
      }
    },
    {
      "cell_type": "code",
      "source": [
        "\n",
        "SELECT\n",
        "    country, \n",
        "    year, \n",
        "    population, \n",
        "    CAST(population AS INT) % 2 AS is_odd\n",
        "FROM economies e\n",
        "WHERE population IS NOT NULL\n",
        "    AND CAST(population AS INT) % 2 = 1;\n",
        "    "
      ],
      "metadata": {
        "id": "yIeCVFE7vD8x"
      },
      "execution_count": null,
      "outputs": []
    },
    {
      "cell_type": "markdown",
      "source": [
        "#DISTINCT"
      ],
      "metadata": {
        "id": "yW3rbinlmkmt"
      }
    },
    {
      "cell_type": "markdown",
      "source": [
        "V jazyce SQL klíčové slovo `DISTINCT` slouží k odstranění duplicitních řádků z výsledku dotazu. \n",
        "\n",
        "V `SELECT` klauzuli, zobrazí se pouze unikátní hodnoty ze sloupců, které jsou uvedeny v `SELECT` klauzuli. \n",
        "\n",
        "Pokud jsou v ní uvedeny více sloupců, bude dotaz odstraňovat řádky, které jsou duplicitní ve všech sloupcích, ne pouze v jednom sloupci.\n",
        "\n"
      ],
      "metadata": {
        "id": "q6PngIUnnniA"
      }
    },
    {
      "cell_type": "markdown",
      "source": [
        "##Úkol 1\n",
        "Z tabulky `healthcare_provider` získejte pouze unikátní hodnoty ze sloupce `municipality`."
      ],
      "metadata": {
        "id": "_ZpowS92ovWI"
      }
    },
    {
      "cell_type": "code",
      "source": [
        "\n",
        "SELECT \n",
        "\t  municipality\n",
        "FROM healthcare_provider hp \n",
        "GROUP BY municipality;\n"
      ],
      "metadata": {
        "id": "Ut9GEEDrpAYt"
      },
      "execution_count": null,
      "outputs": []
    },
    {
      "cell_type": "code",
      "source": [
        "\n",
        "SELECT \n",
        "\t  DISTINCT municipality\n",
        "FROM healthcare_provider hp;\n"
      ],
      "metadata": {
        "id": "MJWNWrXcn43A"
      },
      "execution_count": null,
      "outputs": []
    },
    {
      "cell_type": "code",
      "source": [
        "\n",
        "SELECT \n",
        "\t  COUNT(DISTINCT municipality)\n",
        "FROM healthcare_provider hp;\n"
      ],
      "metadata": {
        "id": "evAsEUlHDnoV"
      },
      "execution_count": null,
      "outputs": []
    },
    {
      "cell_type": "code",
      "source": [
        "\n",
        "SELECT \n",
        "\t  municipality,\n",
        "\t  COUNT(1) AS counter\n",
        "FROM healthcare_provider hp \n",
        "GROUP BY municipality\n",
        "ORDER BY counter DESC;\n"
      ],
      "metadata": {
        "id": "_yWZ7WAMoofD"
      },
      "execution_count": null,
      "outputs": []
    },
    {
      "cell_type": "markdown",
      "source": [
        "##Úkol 2\n",
        "K tabulce `healthcare_provider` připojte potřebné tabulky a získejte název okresu a kraje."
      ],
      "metadata": {
        "id": "jKF4CXgipK7P"
      }
    },
    {
      "cell_type": "code",
      "source": [
        "\n",
        "SELECT \n",
        "    DISTINCT \n",
        "    cr.name AS region_name,\n",
        "    cd.name AS district_name\n",
        "FROM healthcare_provider hp \n",
        "LEFT JOIN czechia_region cr ON cr.code = hp.region_code \n",
        "LEFT JOIN czechia_district cd ON cd.code = hp.district_code;\n"
      ],
      "metadata": {
        "id": "uuVHfmLtqK2O"
      },
      "execution_count": null,
      "outputs": []
    },
    {
      "cell_type": "markdown",
      "source": [
        "#Common Table Expression - CTE"
      ],
      "metadata": {
        "id": "jZ4YoX8ocBrE"
      }
    },
    {
      "cell_type": "markdown",
      "source": [
        "Common Table Expression (CTE) je funkce v jazyku SQL, která umožňuje vytvoření dočasné tabulky, která je přístupná v rámci jednoho `SELECT`, `INSERT`, `UPDATE` nebo `DELETE` příkazu. \n",
        "\n",
        "CTE je užitečná, když potřebujete provést složitý dotaz na databázi, který vyžaduje více kroků a manipulací s daty."
      ],
      "metadata": {
        "id": "zRU6SJastq9b"
      }
    },
    {
      "cell_type": "markdown",
      "source": [
        "##Úkol 1\n",
        "Pomocí operátoru `WITH` připravte tabulku s cenami nad 150 Kč. \n",
        "\n",
        "S její pomocí následně vypište jména takových kategorií potravin, které do této cenové hladiny spadají.\n",
        "\n"
      ],
      "metadata": {
        "id": "rG0KsQXhcL3p"
      }
    },
    {
      "cell_type": "code",
      "source": [
        "\n",
        "WITH high_price AS (\n",
        "    SELECT category_code AS code\n",
        "    FROM czechia_price\n",
        "    WHERE value > 150\n",
        ")\n",
        "SELECT DISTINCT cpc.name\n",
        "FROM high_price hp\n",
        "JOIN czechia_price_category cpc\n",
        "    ON hp.code = cpc.code;\n"
      ],
      "metadata": {
        "id": "f_gIFE-ScNxO"
      },
      "execution_count": null,
      "outputs": []
    },
    {
      "cell_type": "markdown",
      "source": [
        "##Úkol 2\n",
        "Zjistěte, ve kterých okresech mají všichni praktičtí lékaři vyplněný telefon, fax, nebo e-mail. \n",
        "\n",
        "Pro tyto účely si připravte dočasnou tabulku s výčtem okresů, ve kterých tato podmínka naopak splněna není, pod názvem `not_completed_provider_info_district`."
      ],
      "metadata": {
        "id": "VLt09-8ncTYV"
      }
    },
    {
      "cell_type": "code",
      "source": [
        "\n",
        "WITH not_completed_provider_info_district AS (\n",
        "    SELECT \n",
        "        DISTINCT district_code\n",
        "    FROM healthcare_provider\n",
        "    WHERE \n",
        "        phone IS NULL \n",
        "        AND email IS NULL \n",
        "        AND fax IS NULL \n",
        "        AND provider_type = 'Samost. ordinace všeob. prakt. lékaře'\n",
        ")\n",
        "SELECT *\n",
        "FROM czechia_district\n",
        "WHERE code NOT IN (\n",
        "    SELECT *\n",
        "    FROM not_completed_provider_info_district\n",
        ");\n"
      ],
      "metadata": {
        "id": "9y_u68VnclXC"
      },
      "execution_count": null,
      "outputs": []
    },
    {
      "cell_type": "markdown",
      "source": [
        "##Úkol 3\n",
        "\n",
        "Vypište z tabulky economies průměr světových daní, při HDP vyšším než 70 miliard.\n"
      ],
      "metadata": {
        "id": "zEPvR_z3I6Ne"
      }
    },
    {
      "cell_type": "code",
      "source": [
        "\n",
        "WITH large_gdp_area AS (\n",
        "    SELECT *\n",
        "    FROM economies\n",
        "    WHERE GDP > 70 000 000 000\n",
        ")\n",
        "SELECT\n",
        "    ROUND( AVG(taxes), 2) AS taxes_average\n",
        "FROM large_gdp_area;\n",
        "\n"
      ],
      "metadata": {
        "id": "3xNyy7KTcnV4"
      },
      "execution_count": null,
      "outputs": []
    },
    {
      "cell_type": "markdown",
      "source": [
        "#Window functions"
      ],
      "metadata": {
        "id": "mQCNE66WKjhc"
      }
    },
    {
      "cell_type": "markdown",
      "source": [
        "Window functions jsou speciální druh funkcí v jazyce SQL, které umožňují aplikovat výpočty na řady řádků v rámci okna (window) definovaného v rámci výsledků dotazu. \n",
        "\n",
        "Tato funkce umožňuje aplikovat výpočty, jako jsou sumy, průměry, ranky, percentily a další, na skupiny řádků bez nutnosti seskupovat data v dotazu. \n",
        "\n",
        "Window functions jsou velmi užitečné pro analýzu trendů a porovnávání dat v rámci skupin, a umožňují výsledky dotazu prezentovat v přehlednější a strukturovanější formě.\n",
        "\n",
        "Window functions se definují pomocí klauzule OVER, která určuje okno, na kterém se má funkce aplikovat. \n"
      ],
      "metadata": {
        "id": "5FpjMcW3woQM"
      }
    },
    {
      "cell_type": "markdown",
      "source": [
        "https://learn.microsoft.com/en-us/sql/t-sql/queries/select-over-clause-transact-sql?view=sql-server-ver16"
      ],
      "metadata": {
        "id": "-BlEpTB8coWU"
      }
    },
    {
      "cell_type": "code",
      "source": [
        "\n",
        "WITH sales_data AS (\n",
        "    SELECT '2023-03-01' AS date, 'product 1' AS product, 40 AS sales\n",
        "    UNION ALL\n",
        "    SELECT '2023-03-02' AS date, 'product 1' AS product, 66 AS sales\n",
        "    UNION ALL\n",
        "    SELECT '2023-03-03' AS date, 'product 1' AS product, 50 AS sales\n",
        "    UNION ALL\n",
        "    SELECT '2023-03-03' AS date, 'product 1' AS product, 50 AS sales\n",
        "    UNION ALL\n",
        "    SELECT '2023-03-05' AS date, 'product 1' AS product, 9 AS sales\n",
        "    UNION ALL\n",
        "    SELECT '2023-03-05' AS date, 'product 2' AS product, 15 AS sales\n",
        ")\n",
        "SELECT \n",
        "    *,  \n",
        "    SUM(sales) OVER (PARTITION BY product ORDER BY date) AS value_cumulative_sum_default,  \n",
        "    SUM(sales) OVER (PARTITION BY product ORDER BY date ROWS BETWEEN UNBOUNDED PRECEDING AND CURRENT ROW) AS value_cumulative_sum,  \n",
        "    SUM(sales) OVER (PARTITION BY product ORDER BY date ROWS BETWEEN 2 PRECEDING AND CURRENT ROW) AS value_cumulative_sum_last_2,  \n",
        "    SUM(sales) OVER (PARTITION BY product ORDER BY date ROWS BETWEEN 1 PRECEDING AND 1 FOLLOWING) AS value_cumulative_sum_last_1_next_1\n",
        "FROM sales_data\n"
      ],
      "metadata": {
        "id": "Autdwf3fZqrs"
      },
      "execution_count": null,
      "outputs": []
    },
    {
      "cell_type": "markdown",
      "source": [
        "![image.png](data:image/png;base64,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)"
      ],
      "metadata": {
        "id": "e5FvPGZMfV3r"
      }
    },
    {
      "cell_type": "code",
      "source": [
        "\n",
        "WITH sales_data AS (\n",
        "    SELECT '2023-03-01' AS date, 'product 1' AS product, 40 AS sales\n",
        "    UNION ALL\n",
        "    SELECT '2023-03-02' AS date, 'product 1' AS product, 66 AS sales\n",
        "    UNION ALL\n",
        "    SELECT '2023-03-03' AS date, 'product 1' AS product, 50 AS sales\n",
        "    UNION ALL\n",
        "    SELECT '2023-03-03' AS date, 'product 1' AS product, 50 AS sales\n",
        "    UNION ALL\n",
        "    SELECT '2023-03-05' AS date, 'product 1' AS product, 9 AS sales\n",
        "    UNION ALL\n",
        "    SELECT '2023-03-05' AS date, 'product 2' AS product, 15 AS sales\n",
        ")\n",
        "SELECT \n",
        "    *,\n",
        "    RANK() OVER (PARTITION BY product ORDER BY date) AS value_rank,\n",
        "    DENSE_RANK() OVER (PARTITION BY product ORDER BY date) AS value_dense_rank,\n",
        "    ROW_NUMBER() OVER (PARTITION BY product ORDER BY date) AS value_row_number,\n",
        "    LAG(sales) OVER (PARTITION BY product ORDER BY date) AS value_lag,\n",
        "    LEAD(sales) OVER (PARTITION BY product ORDER BY date) AS value_lead,\t\n",
        "    LAST_VALUE(sales) OVER (PARTITION BY product ORDER BY product) AS value_last,\n",
        "    FIRST_VALUE(sales) OVER (PARTITION BY product ORDER BY product) AS value_first\n",
        "FROM sales_data\n",
        "\n"
      ],
      "metadata": {
        "id": "N4wvRMDpNF0W"
      },
      "execution_count": null,
      "outputs": []
    },
    {
      "cell_type": "markdown",
      "source": [
        "##Úkol 1\n",
        "\n",
        "Vypočítejte RANK nad hodnotou cen v jednotlivých kategoriích potravin. Doplňte o vhodné informace o kategorii, kraji i datu sběru dat."
      ],
      "metadata": {
        "id": "pMO_0uD8KomU"
      }
    },
    {
      "cell_type": "code",
      "source": [
        "SELECT\n",
        "    cp.category_code, \n",
        "    cpc.name,\n",
        "    cp.region_code, \n",
        "    CONCAT(YEAR(cp.date_from), '/', MONTH(cp.date_from)) AS year_and_month,\n",
        "    REPLACE(CONCAT(cp.value, ' Kč / ', cpc.price_value, ' ', cpc.price_unit), '.', ',') AS price,\n",
        "    RANK() OVER (PARTITION BY cp.category_code ORDER BY cp.value DESC) AS value_rank\n",
        "FROM czechia_price cp\n",
        "JOIN czechia_price_category cpc\n",
        "    ON cp.category_code = cpc.code\n",
        "ORDER BY value_rank, cp.value DESC;"
      ],
      "metadata": {
        "id": "v69EQfuGKr_7"
      },
      "execution_count": null,
      "outputs": []
    },
    {
      "cell_type": "markdown",
      "source": [
        "##Úkol 2\n",
        "\n",
        "Upravte předchozí dataz tak, že vrátíte jenom záznamy s `RANK` menším než 3."
      ],
      "metadata": {
        "id": "L7abvMUcKz3y"
      }
    },
    {
      "cell_type": "code",
      "source": [
        "SELECT *\n",
        "FROM (\n",
        "    SELECT\n",
        "        cp.category_code, cpc.name,\n",
        "        cp.region_code, CONCAT(YEAR(cp.date_from), '/', MONTH(cp.date_from)) AS year_and_month,\n",
        "        REPLACE(CONCAT(cp.value, ' Kč / ', cpc.price_value, ' ', cpc.price_unit), '.', ',') AS price,\n",
        "        RANK() OVER (PARTITION BY cp.category_code ORDER BY cp.value DESC) AS value_rank\n",
        "    FROM czechia_price cp\n",
        "    JOIN czechia_price_category cpc\n",
        "        ON cp.category_code = cpc.code\n",
        "    ORDER BY value_rank, cp.value DESC\n",
        ") AS t\n",
        "WHERE t.value_rank < 3;"
      ],
      "metadata": {
        "id": "5WpSdFp7K5WX"
      },
      "execution_count": null,
      "outputs": []
    },
    {
      "cell_type": "markdown",
      "source": [
        "##Úkol 3\n",
        "\n",
        "Přidejte výpočet `DENSE_RANK` a `ROW_NUMBER`. \n",
        "\n",
        "Seřaďte primárně podle kódu kategorie a sekundárně podle ROW_NUMBER a v dalším dotazu dle `RANK`. \n",
        "\n",
        "Jaké jsou rozdíly?"
      ],
      "metadata": {
        "id": "ASf_3wsCLHli"
      }
    },
    {
      "cell_type": "code",
      "source": [
        "SELECT\n",
        "    cp.category_code, cpc.name,\n",
        "    cp.region_code, CONCAT(YEAR(cp.date_from), '/', MONTH(cp.date_from)) AS year_and_month,\n",
        "    REPLACE(CONCAT(cp.value, ' Kč / ', cpc.price_value, ' ', cpc.price_unit), '.', ',') AS price,\n",
        "    RANK() OVER (PARTITION BY cp.category_code ORDER BY cp.value DESC) AS value_rank,\n",
        "    DENSE_RANK() OVER (PARTITION BY cp.category_code ORDER BY cp.value DESC) AS value_dense_rank,\n",
        "    ROW_NUMBER() OVER (PARTITION BY cp.category_code ORDER BY cp.value DESC) AS value_row_number\n",
        "FROM czechia_price cp\n",
        "JOIN czechia_price_category cpc\n",
        "    ON cp.category_code = cpc.code\n",
        "ORDER BY cp.category_code, value_row_number;"
      ],
      "metadata": {
        "id": "p2kiT8CvLRna"
      },
      "execution_count": null,
      "outputs": []
    },
    {
      "cell_type": "markdown",
      "source": [
        "Seřazeno dle RANK:"
      ],
      "metadata": {
        "id": "5VS0AwKQLS0v"
      }
    },
    {
      "cell_type": "code",
      "source": [
        "SELECT\n",
        "    cp.category_code, \n",
        "    cpc.name,\n",
        "    cp.region_code, \n",
        "    CONCAT(YEAR(cp.date_from), '/', MONTH(cp.date_from)) AS year_and_month,\n",
        "    REPLACE(CONCAT(cp.value, ' Kč / ', cpc.price_value, ' ', cpc.price_unit), '.', ',') AS price,\n",
        "    RANK() OVER (PARTITION BY cp.category_code ORDER BY cp.value DESC) AS value_rank,\n",
        "    DENSE_RANK() OVER (PARTITION BY cp.category_code ORDER BY cp.value DESC) AS value_dense_rank,\n",
        "    ROW_NUMBER() OVER (PARTITION BY cp.category_code ORDER BY cp.value DESC) AS value_row_number\n",
        "FROM czechia_price cp\n",
        "JOIN czechia_price_category cpc\n",
        "    ON cp.category_code = cpc.code\n",
        "ORDER BY cp.category_code, value_rank;"
      ],
      "metadata": {
        "id": "ROXEyS6uLTMd"
      },
      "execution_count": null,
      "outputs": []
    },
    {
      "cell_type": "markdown",
      "source": [
        "##Úkol 4\n",
        "\n",
        "Pomocí `FIRST_VALUE` najděte v tabulce `life_expectancy` nejnižší číslo pro Itálii ve sloupci `life_expectancy`."
      ],
      "metadata": {
        "id": "qJ9MLIpSL6iQ"
      }
    },
    {
      "cell_type": "code",
      "source": [
        "\n",
        "SELECT \n",
        "    country,\n",
        "    year,\n",
        "    life_expectancy,\n",
        "    FIRST_VALUE(life_expectancy) OVER (ORDER BY life_expectancy) AS first_value_in_life_expectancy\n",
        "FROM life_expectancy le \n",
        "WHERE \n",
        "\t  country = 'Italy'\n",
        "ORDER BY year DESC;\n",
        "\n"
      ],
      "metadata": {
        "id": "iCobKx62L6_w"
      },
      "execution_count": null,
      "outputs": []
    },
    {
      "cell_type": "markdown",
      "source": [
        "##Úkol 5\n",
        "\n",
        "Pomocí `FIRST_VALUE` najděte v tabulce `life_expectancy` nejnižší číslo globálně."
      ],
      "metadata": {
        "id": "qG25lTE0MCWp"
      }
    },
    {
      "cell_type": "code",
      "source": [
        "\n",
        "SELECT \n",
        "    country,\n",
        "    year,\n",
        "    life_expectancy,\n",
        "    FIRST_VALUE(life_expectancy) OVER (ORDER BY life_expectancy) AS first_value_in_life_expectancy\n",
        "FROM life_expectancy le \n",
        "ORDER BY year DESC;\n"
      ],
      "metadata": {
        "id": "DR9ud6SJMHCT"
      },
      "execution_count": null,
      "outputs": []
    },
    {
      "cell_type": "markdown",
      "source": [
        "##Úkol 6\n",
        "\n",
        "Pomocí `AVG` spočítejte průměrnou délku života pro Itálii."
      ],
      "metadata": {
        "id": "RhJjBYgUIh1H"
      }
    },
    {
      "cell_type": "code",
      "source": [
        "\n",
        "SELECT \n",
        "    country,\n",
        "    AVG(life_expectancy)\n",
        "FROM life_expectancy le \n",
        "WHERE country = 'Italy'\n",
        "GROUP BY country;\n"
      ],
      "metadata": {
        "id": "pS0qwdytImEz"
      },
      "execution_count": null,
      "outputs": []
    },
    {
      "cell_type": "code",
      "source": [
        "\n",
        "SELECT \n",
        "    country,\n",
        "    year,\n",
        "    life_expectancy,\n",
        "    AVG(life_expectancy) OVER (PARTITION BY country) AS first_value_in_life_expectancy\n",
        "FROM life_expectancy le \n",
        "WHERE country = 'Italy'\n",
        "ORDER BY first_value_in_life_expectancy DESC;\n"
      ],
      "metadata": {
        "id": "8wS-o1tEInAf"
      },
      "execution_count": null,
      "outputs": []
    },
    {
      "cell_type": "markdown",
      "source": [
        "Dotaz upravte pro všechny země."
      ],
      "metadata": {
        "id": "QyM-H9hJKd2l"
      }
    },
    {
      "cell_type": "code",
      "source": [
        "\n",
        "SELECT \n",
        "    country,\n",
        "    year,\n",
        "    life_expectancy,\n",
        "    AVG(life_expectancy) OVER (PARTITION BY country) AS first_value_in_life_expectancy\n",
        "FROM life_expectancy le \n",
        "ORDER BY first_value_in_life_expectancy DESC;\n"
      ],
      "metadata": {
        "id": "DMm27l8xKcwd"
      },
      "execution_count": null,
      "outputs": []
    },
    {
      "cell_type": "markdown",
      "source": [
        "#Klauzule HAVING"
      ],
      "metadata": {
        "id": "yHXqysuaO2_y"
      }
    },
    {
      "cell_type": "markdown",
      "source": [
        "HAVING je klauzule v jazyce SQL, která slouží k filtrování dat z výstupu dotazu GROUP BY. \n",
        "\n",
        "HAVING se používá pro omezení výstupu na řádky, které splňují určité podmínky. \n",
        "\n",
        "HAVING funguje podobně jako WHERE klauzule, ale na rozdíl od WHERE, který se používá pro omezení výběru řádků před seskupením, HAVING se používá k omezení výsledků po seskupení."
      ],
      "metadata": {
        "id": "RKseZJiDvJ2Y"
      }
    },
    {
      "cell_type": "markdown",
      "source": [
        "##Úkol 1\n",
        "Vypište z tabulky `czechia_payroll` obor s větší průměrnou hodnotou `value` pro rok 2018.\n",
        "\n",
        "NEFUNKČNÍ DOTAZ - musíme použít HAVING:"
      ],
      "metadata": {
        "id": "a1sGkUTsdxGY"
      }
    },
    {
      "cell_type": "code",
      "source": [
        "\n",
        "SELECT \n",
        "    industry_branch_code,\n",
        "    AVG(value) AS total_sum\n",
        "FROM\n",
        "\tczechia_payroll cp\n",
        "WHERE\n",
        "    payroll_year = 2018\n",
        "    AND value_type_code = 316\n",
        "    AND value IS NOT NULL\n",
        "    AND AVG(value) > 100\n",
        "GROUP BY\n",
        "\t  industry_branch_code;\n"
      ],
      "metadata": {
        "id": "LTpojnCgdxU9"
      },
      "execution_count": null,
      "outputs": []
    },
    {
      "cell_type": "markdown",
      "source": [
        "S použitím HAVING\n"
      ],
      "metadata": {
        "id": "ML4oAwvFqLlt"
      }
    },
    {
      "cell_type": "code",
      "source": [
        "\n",
        "SELECT \n",
        "    industry_branch_code,\n",
        "    AVG(value) AS total_sum\n",
        "FROM\n",
        "\tczechia_payroll cp\n",
        "WHERE\n",
        "    payroll_year = 2018\n",
        "    AND value_type_code = 316\n",
        "    AND value IS NOT NULL\n",
        "GROUP BY industry_branch_code\n",
        "HAVING AVG(value) > 50\n"
      ],
      "metadata": {
        "id": "jDHGbgSZqQZ7"
      },
      "execution_count": null,
      "outputs": []
    },
    {
      "cell_type": "markdown",
      "source": [
        "##Úkol 2\n",
        "\n",
        "Vyberte z tabulky `economies` roky a oblasti s populací nad 4 miliardy.\n"
      ],
      "metadata": {
        "id": "6882as4pd7HH"
      }
    },
    {
      "cell_type": "code",
      "source": [
        "\n",
        "SELECT\n",
        "    country, \n",
        "    year, \n",
        "    SUM(population) AS overall_population\n",
        "FROM economies e\n",
        "GROUP BY country, year\n",
        "HAVING SUM(population) > 4000000000\n",
        "ORDER BY overall_population DESC;\n"
      ],
      "metadata": {
        "id": "dNlRN_YKd9rh"
      },
      "execution_count": null,
      "outputs": []
    },
    {
      "cell_type": "markdown",
      "source": [
        "#PIVOT\n",
        "\n",
        "PIVOT je operace, která umožňuje převést řádková data na sloupcová data. \n",
        "\n",
        "To znamená, že řádky tabulky jsou převedeny na sloupce a sloupce tabulky jsou převedeny na řádky.\n",
        "\n",
        "Operace PIVOT využívá agregace dat a zobrazuje je v přehledné tabulce, která usnadňuje analýzu a vyhodnocení dat. \n",
        "\n",
        "https://learn.microsoft.com/en-us/sql/t-sql/queries/from-using-pivot-and-unpivot?view=sql-server-ver16"
      ],
      "metadata": {
        "id": "YYWZn9f9Y2dp"
      }
    },
    {
      "cell_type": "code",
      "source": [
        "\n",
        "WITH sales_data AS (\n",
        "    SELECT 2023 AS year, 01 AS month, 'product 1' AS product, 490 AS sales\n",
        "    UNION\n",
        "    SELECT 2023 AS year, 01 AS month, 'product 2' AS product, 66 AS sales\n",
        "    UNION\n",
        "    SELECT 2023 AS year, 02 AS month, 'product 1' AS product, 50 AS sales\n",
        "    UNION\n",
        "    SELECT 2023 AS year, 01 AS month, 'product 1' AS product, 50 AS sales\n",
        "    UNION\n",
        "    SELECT 2023 AS year, 01 AS month, 'product 1' AS product, 9 AS sales\n",
        ")\n",
        "SELECT * FROM sales_data\n",
        "PIVOT (\n",
        "    SUM(sales)\n",
        "    FOR year IN ([2022], [2023])\n",
        ") AS pivot_table\n",
        "ORDER BY product, month;"
      ],
      "metadata": {
        "id": "ik81vVXTZKMN"
      },
      "execution_count": null,
      "outputs": []
    },
    {
      "cell_type": "markdown",
      "source": [
        "# Optimalizace\n",
        "\n"
      ],
      "metadata": {
        "id": "egmTp2Bp-Tp4"
      }
    },
    {
      "cell_type": "markdown",
      "source": [
        "Optimalizace datových typů v SQL může být důležitá pro zlepšení výkonu a snížení nároků na prostor pro databázi. \n",
        "\n",
        "Zde je několik tipů na optimalizaci datových typů v SQL:\n",
        "\n",
        "* Čím menší datový typ, tím lepší\n",
        "\n",
        "* Jednoduché datové typy jsou lepší (např. iteger je lepší na\n",
        "porovnání než `CHAR` – locate, collations…)\n",
        "\n",
        "* `TIMESTAMP` vs. `DATETIME` - `TIMESTAMP` zabírá polovinu\n",
        "prostoru co `DATETIME`\n",
        "\n",
        "* Používejte co nejjednodušší datové typy pro vaše potřeby - pokud víte, že hodnota bude pouze celé číslo, použijte `INTEGER` namísto `FLOAT` nebo `DECIMAL`. \n",
        "\n",
        "* Stejně tak, pokud máte řetězec, který bude vždy kratší než 100 znaků, použijte `VARCHAR(100)` namísto `TEXT` nebo `NVARCHAR(MAX)`.\n",
        "\n",
        "* Vyhnout se `IS NULL` definicím pokud to není nutné (komplikuje\n",
        "indexy, statistiky, agregační funkce)\n",
        "\n",
        "* Používejte `NULL` hodnoty pouze tehdy, když to má smysl - pokud víte, že hodnota nikdy nebude chybět, použijte NOT NULL, což může pomoci zrychlit dotazy.\n",
        "\n",
        "* Zvažte použití datových typů s pevnou délkou - například `CHAR` nebo `NCHAR` mohou být rychlejší než jejich variabilní protějšky.\n",
        "\n",
        "* Rozhodněte se, zda potřebujete přesnost nebo rychlost - například `FLOAT` může být rychlejší než `DECIMAL`, ale `DECIMAL` má větší přesnost.\n",
        "\n",
        "* Používejte indexy - indexy mohou pomoci zlepšit výkon dotazů a mohou být založeny na konkrétních sloupcích nebo kombinacích sloupců.\n",
        "\n",
        "* Samotné GROUP BY může být uspokojeno pomocí indexu. Pokud není možné použít index, dochází k vytvoření temporary tabulky, kde jednotlivé skupiny jdou po sobě (na těchto skupinách se poté vykonávají agregační funkce).\n",
        "\n",
        "* Uvažujte o normalizaci - rozdělení tabulky do menších tabulek s vztahy mezi nimi může pomoci s rychlostí a účinností dotazů.\n",
        "\n",
        "* Využívejte možnosti komprese - některé databázové systémy umožňují komprimovat data, což může vést k úspoře místa na disku a lepšímu výkonu."
      ],
      "metadata": {
        "id": "_PVY0EdV-VUt"
      }
    },
    {
      "cell_type": "markdown",
      "source": [
        "# UPOZORNĚNÍ\n",
        "\n",
        "---\n",
        "\n",
        "\n",
        "\n",
        "Při práci v DBeaveru ukončujte průběžně connections do dtb, která nepotřebujete.\n",
        "\n",
        "Před ukončením DBeaveru rovněž ukončete všechna connections."
      ],
      "metadata": {
        "id": "2W6sXVRsXWuC"
      }
    },
    {
      "cell_type": "markdown",
      "source": [
        "![image.png](data:image/png;base64,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)"
      ],
      "metadata": {
        "id": "XPa7aoQtX1C9"
      }
    },
    {
      "cell_type": "markdown",
      "source": [
        "# Děkuji za pozornost\n",
        "\n"
      ],
      "metadata": {
        "id": "Txc4U8ZMN0Kd"
      }
    },
    {
      "cell_type": "markdown",
      "source": [
        "![image.png](data:image/png;base64,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)"
      ],
      "metadata": {
        "id": "lnVlgrYrPRfG"
      }
    },
    {
      "cell_type": "markdown",
      "source": [
        "## Lektor - Jan Kammermayer\n",
        "\n",
        "www.linkedin.com/in/kammermayerj\n"
      ],
      "metadata": {
        "id": "UVrwAePeN-oQ"
      }
    }
  ]
}